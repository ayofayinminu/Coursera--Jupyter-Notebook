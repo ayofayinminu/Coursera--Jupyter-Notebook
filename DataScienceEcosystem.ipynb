{
 "cells": [
  {
   "cell_type": "markdown",
   "id": "1870f6cb-e9bf-466d-b481-f226e294d760",
   "metadata": {},
   "source": [
    "# Data Science Tools and Ecosystem"
   ]
  },
  {
   "cell_type": "markdown",
   "id": "77a7929c-34b1-4107-89db-e9cd970a743b",
   "metadata": {},
   "source": [
    "## In this notebook, Data Science Tools and Ecosystem are summarized."
   ]
  },
  {
   "cell_type": "markdown",
   "id": "e544a145-8e46-4222-9133-ad743213d2ad",
   "metadata": {},
   "source": [
    " __Objectives:__\n",
    "\n",
    "* List popular languages for Data Science\n",
    "* Create a Jupyter Notebook\n",
    "* Share your notebook through GitHub"
   ]
  },
  {
   "cell_type": "markdown",
   "id": "acacb40e-4fc2-4878-8368-6c3052c7de4e",
   "metadata": {},
   "source": [
    "### Some of the popular languages that Data Scientists use are:\n",
    "1. Python\n",
    "2. R\n",
    "3. Julia"
   ]
  },
  {
   "cell_type": "markdown",
   "id": "b1361733-1627-4683-94d1-df91229d86ca",
   "metadata": {},
   "source": [
    "### Some of the commonly used libraries used by Data Scientists include:\n",
    "1. Seaborn\n",
    "2. GGPlot\n",
    "3. Matplotlip\n",
    "4. Plotly"
   ]
  },
  {
   "cell_type": "markdown",
   "id": "e43f0a12-e945-41d4-9782-ba012a1c570b",
   "metadata": {},
   "source": [
    "| Data Science Tools|\n",
    "| ----------------- |\n",
    "| Jupyter Notebook |\n",
    "| Jupyter Lab |\n",
    "| Anaconda |\n",
    "| R Studio |\n"
   ]
  },
  {
   "cell_type": "markdown",
   "id": "35744ad2-aff9-46ba-978c-0fde45691e65",
   "metadata": {},
   "source": [
    "### Below are a few examples of evaluating arithmetic expressions in Python.\n",
    "$2 + 2 = 4$\\\n",
    "$5 - 2 = 3$"
   ]
  },
  {
   "cell_type": "code",
   "execution_count": 10,
   "id": "d7cd32a1-7a18-477a-bc1d-174584f5c0ae",
   "metadata": {},
   "outputs": [
    {
     "data": {
      "text/plain": [
       "17"
      ]
     },
     "execution_count": 10,
     "metadata": {},
     "output_type": "execute_result"
    }
   ],
   "source": [
    "# This a simple arithmetic expression to mutiply then add integers\n",
    "(3*4)+5"
   ]
  },
  {
   "cell_type": "code",
   "execution_count": 12,
   "id": "f0c96e40-968b-44f0-9a4e-9f076abd86e8",
   "metadata": {},
   "outputs": [
    {
     "data": {
      "text/plain": [
       "3.3333333333333335"
      ]
     },
     "execution_count": 12,
     "metadata": {},
     "output_type": "execute_result"
    }
   ],
   "source": [
    "# This will convert 200 minutes to hours by diving by 60\n",
    "200 / 60"
   ]
  },
  {
   "cell_type": "markdown",
   "id": "9c1119e7-1105-46db-a550-eb258bc0352e",
   "metadata": {},
   "source": [
    "## Author\n",
    "Ayodele Fayinminu"
   ]
  },
  {
   "cell_type": "code",
   "execution_count": null,
   "id": "128d323e-7cc8-4efe-9d02-868da42661e3",
   "metadata": {},
   "outputs": [],
   "source": []
  }
 ],
 "metadata": {
  "kernelspec": {
   "display_name": "Python 3 (ipykernel)",
   "language": "python",
   "name": "python3"
  },
  "language_info": {
   "codemirror_mode": {
    "name": "ipython",
    "version": 3
   },
   "file_extension": ".py",
   "mimetype": "text/x-python",
   "name": "python",
   "nbconvert_exporter": "python",
   "pygments_lexer": "ipython3",
   "version": "3.12.4"
  }
 },
 "nbformat": 4,
 "nbformat_minor": 5
}
